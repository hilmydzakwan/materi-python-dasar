{
  "nbformat": 4,
  "nbformat_minor": 0,
  "metadata": {
    "colab": {
      "provenance": [],
      "authorship_tag": "ABX9TyPr9jMK9/YOjzPwsz3stR+t",
      "include_colab_link": true
    },
    "kernelspec": {
      "name": "python3",
      "display_name": "Python 3"
    },
    "language_info": {
      "name": "python"
    }
  },
  "cells": [
    {
      "cell_type": "markdown",
      "metadata": {
        "id": "view-in-github",
        "colab_type": "text"
      },
      "source": [
        "<a href=\"https://colab.research.google.com/github/hilmydzakwan/materi-python-dasar/blob/main/latihan_dasar.ipynb\" target=\"_parent\"><img src=\"https://colab.research.google.com/assets/colab-badge.svg\" alt=\"Open In Colab\"/></a>"
      ]
    },
    {
      "cell_type": "code",
      "execution_count": 1,
      "metadata": {
        "colab": {
          "base_uri": "https://localhost:8080/"
        },
        "id": "Y2qCT7WTWauN",
        "outputId": "c90ec0ca-46b3-4823-bc49-345042e934a5"
      },
      "outputs": [
        {
          "output_type": "stream",
          "name": "stdout",
          "text": [
            "Halo, ini latihan dasar Python!\n"
          ]
        }
      ],
      "source": [
        "# Materi Dasar Python\n",
        "# Dibuat oleh Hilmy Dzakwan\n",
        "\n",
        "print(\"Halo, ini latihan dasar Python!\")\n"
      ]
    }
  ]
}